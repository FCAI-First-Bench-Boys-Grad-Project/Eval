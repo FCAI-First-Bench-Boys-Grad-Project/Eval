{
 "cells": [
  {
   "cell_type": "code",
   "execution_count": 1,
   "metadata": {},
   "outputs": [],
   "source": [
    "from util.evaluator import *\n",
    "import numpy as np"
   ]
  },
  {
   "cell_type": "code",
   "execution_count": null,
   "metadata": {},
   "outputs": [],
   "source": [
    "ground_truth = {\n",
    "    \"title\": \"Understanding Transformers\",\n",
    "    \"author\": \"Alice Smith\",\n",
    "    \"date\": \"2025-02-14\",\n",
    "    \"content\": \"This article explains the basics of transformer models.\",\n",
    "    \"tags\": [\"NLP\", \"Deep Learning\"]\n",
    "}\n",
    "\n",
    "predictions = {\n",
    "    \"title\": \"Understanding Transformers\",\n",
    "    \"author\": \"Alice Smith\",\n",
    "    \"date\": \"2025-02-14\",\n",
    "    \"content\": \"This article explains the basics of transformer models.\",\n",
    "    \"tags\": [\"NLP\", \"Deep Learning\"]\n",
    "}\n",
    "\n",
    "# Putting both dictionaries into a numpy array\n",
    "ground_truth = np.array([ground_truth])\n",
    "predictions = np.array([predictions])\n"
   ]
  },
  {
   "cell_type": "code",
   "execution_count": 9,
   "metadata": {},
   "outputs": [
    {
     "name": "stdout",
     "output_type": "stream",
     "text": [
      "{'recall': 1.0, 'precision': 0.8, 'f1': 0.888888888888889}\n"
     ]
    }
   ],
   "source": [
    "# Creating the chosen metrics \n",
    "metrics = [RecallJson(), PrecisionJson(), F1Json()]\n",
    "\n",
    "# Creating the evaluator\n",
    "evaluator = Evaluator(metrics)\n",
    "\n",
    "# Evaluating the predictions\n",
    "results = evaluator.evaluate(ground_truth, predictions)\n",
    "\n",
    "# Printing the results\n",
    "print(results)"
   ]
  },
  {
   "cell_type": "code",
   "execution_count": null,
   "metadata": {},
   "outputs": [],
   "source": []
  }
 ],
 "metadata": {
  "kernelspec": {
   "display_name": "Python 3",
   "language": "python",
   "name": "python3"
  },
  "language_info": {
   "codemirror_mode": {
    "name": "ipython",
    "version": 3
   },
   "file_extension": ".py",
   "mimetype": "text/x-python",
   "name": "python",
   "nbconvert_exporter": "python",
   "pygments_lexer": "ipython3",
   "version": "3.11.9"
  }
 },
 "nbformat": 4,
 "nbformat_minor": 2
}
